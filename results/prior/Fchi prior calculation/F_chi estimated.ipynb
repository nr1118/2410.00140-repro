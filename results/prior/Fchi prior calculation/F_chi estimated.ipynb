{
 "cells": [
  {
   "cell_type": "code",
   "execution_count": 1,
   "id": "0f28178b",
   "metadata": {},
   "outputs": [],
   "source": [
    "import matplotlib as plt\n",
    "from matplotlib import pyplot\n",
    "import numpy as np"
   ]
  },
  {
   "cell_type": "code",
   "execution_count": 2,
   "id": "f1888cdb",
   "metadata": {},
   "outputs": [],
   "source": [
    "plt.rc('font',**{'family':'sans-serif','sans-serif':['Helvetica']})\n",
    "plt.rc('text', usetex=True)\n",
    "\n",
    "pyplot.rc('text', usetex=True)\n",
    "pyplot.rc('font', family='serif')\n",
    "\n",
    "pyplot.rcParams['xtick.direction'] = 'in'\n",
    "pyplot.rcParams['xtick.minor.visible'] = True\n",
    "pyplot.rcParams['ytick.direction'] = 'in'\n",
    "pyplot.rcParams['ytick.minor.visible'] = True\n",
    "pyplot.rcParams['xtick.major.size'] = 5\n",
    "pyplot.rcParams['ytick.major.size'] = 5\n",
    "pyplot.rcParams['ytick.right'] = True\n",
    "pyplot.rcParams['xtick.top'] = True"
   ]
  },
  {
   "cell_type": "code",
   "execution_count": 3,
   "id": "9cc11934",
   "metadata": {},
   "outputs": [],
   "source": [
    "from astropy import units as u\n",
    "from astropy.coordinates import SkyCoord \n",
    "from astropy.coordinates import Galactocentric\n",
    "from astropy.coordinates import galactocentric_frame_defaults\n",
    "import astropy.coordinates as coord"
   ]
  },
  {
   "cell_type": "code",
   "execution_count": 4,
   "id": "266cd2b8",
   "metadata": {},
   "outputs": [],
   "source": [
    "dchi_c_upper = 8.1+0.7 # 8.1 +/- 0.7 #kpc\n",
    "rhochi_c_upper =5.22e-2 + .46e-2 #5.22e-2,  +/-.46e-2 #solar mass per pc^3\n",
    "rhochi_upper = lambda d: rhochi_c_upper*(dchi_c_upper/d)* (1+d/dchi_c_upper)**(-2)\n",
    "\n",
    "\n",
    "rsc_disk = 3   #kpc\n",
    "rhoc_disk = 15 #solar mass/ pc^3\n",
    "\n",
    "rho_disk = lambda d: rhoc_disk * np.exp(-d/rsc_disk)\n",
    "\n",
    "\n",
    "rho_total_upper = lambda d: rho_disk(d) + rhochi_upper(d)"
   ]
  },
  {
   "cell_type": "code",
   "execution_count": 5,
   "id": "a2869e04",
   "metadata": {},
   "outputs": [],
   "source": [
    "#defining the mass-fraction a ratio of the dark matter density over the sum of the densities\n",
    "f_chi = lambda d: rhochi_upper(d)/(rho_total_upper(d))"
   ]
  },
  {
   "cell_type": "code",
   "execution_count": 6,
   "id": "0ac439e4",
   "metadata": {},
   "outputs": [],
   "source": [
    "#Sgr A* in the icrs frame,i.e, frame of the barycenter of the solar system, which is basically just outside of the sun\n",
    "sgrA = coord.SkyCoord(ra =266.41681663*u.degree, dec =29.00782497*u.degree, distance = 8.3*u.kpc,frame = 'icrs')"
   ]
  },
  {
   "cell_type": "code",
   "execution_count": 7,
   "id": "6e2f44b4",
   "metadata": {},
   "outputs": [
    {
     "name": "stdout",
     "output_type": "stream",
     "text": [
      "Distance 0740 to GC: 8.6\n",
      "Fchi Estimate 0740: 1.7123192823669444\n",
      "Distance 0437 to GC: 8.44520173113525\n",
      "Fchi Estimate 0437: 1.6863224387998192\n",
      "Distance 0030 to GC: 8.347866205671481\n",
      "Fchi Estimate 0030: 1.670591535983569\n"
     ]
    }
   ],
   "source": [
    "#J0740\n",
    "dist_0740toGC = 8.6 #kpc following 1910.09925\n",
    "\n",
    "print('Distance 0740 to GC:', dist_0740toGC)\n",
    "\n",
    "print('Fchi Estimate 0740: '+str(f_chi(dist_0740toGC)*100))\n",
    "\n",
    "\n",
    "\n",
    "#J0437\n",
    "psr_0437 =coord.SkyCoord(ra =69.31583108*u.degree, dec = -47.25237343*u.degree, distance = .157*u.kpc)\n",
    "\n",
    "\n",
    "dist_0437toGC = sgrA.separation_3d(psr_0437).value\n",
    "\n",
    "print('Distance 0437 to GC:', dist_0437toGC)\n",
    "\n",
    "print('Fchi Estimate 0437: '+str(f_chi(dist_0437toGC)*100))\n",
    "\n",
    "\n",
    "\n",
    "\n",
    "#J0030\n",
    "psr_0030 =coord.SkyCoord(ra =7.61428208*u.degree, dec = 4.86103056*u.degree, distance = 0.325*u.kpc)\n",
    "\n",
    "\n",
    "dist_0030toGC = sgrA.separation_3d(psr_0030).value\n",
    "\n",
    "print('Distance 0030 to GC:', dist_0030toGC)\n",
    "\n",
    "print('Fchi Estimate 0030: '+str(f_chi(dist_0030toGC)*100))\n"
   ]
  },
  {
   "cell_type": "code",
   "execution_count": 8,
   "id": "179f944b",
   "metadata": {},
   "outputs": [],
   "source": [
    "dchi_c_lower = 8.1-0.7 # 8.1 +/- 0.7 #kpc\n",
    "rhochi_c_lower =(5.22-0.46)*1e-2 #5.22e-2,  +/-.46e-2 #solar mass per pc^3\n",
    "rhochi_lower = lambda d: rhochi_c_lower*(dchi_c_lower/d)* (1+d/dchi_c_lower)**(-2)\n",
    "\n",
    "\n",
    "rsc_disk = 3   #kpc\n",
    "rhoc_disk = 15 #solar mass/ pc^3\n",
    "\n",
    "rho_disk = lambda d: rhoc_disk * np.exp(-d/rsc_disk)\n",
    "\n",
    "\n",
    "rho_total_lower = lambda d: rho_disk(d) + rhochi_lower(d)\n",
    "\n",
    "#defining the mass-fraction a ratio of the dark matter density over the sum of the densities\n",
    "f_chilower = lambda d: rhochi_lower(d)/(rho_total_lower(d))"
   ]
  },
  {
   "cell_type": "code",
   "execution_count": 9,
   "id": "4f14881f",
   "metadata": {},
   "outputs": [
    {
     "name": "stdout",
     "output_type": "stream",
     "text": [
      "Distance 0740 to GC: 8.6\n",
      "Fchi Estimate 0740: 1.0162807958483175\n",
      "Distance 0437 to GC: 8.44520173113525\n",
      "Fchi Estimate 0437: 1.0023018824887044\n",
      "Distance 0030 to GC: 8.347866205671481\n",
      "Fchi Estimate 0030: 0.9938741988857629\n"
     ]
    }
   ],
   "source": [
    "#J0740\n",
    "dist_0740toGC = 8.6 #kpc\n",
    "\n",
    "print('Distance 0740 to GC:', dist_0740toGC)\n",
    "\n",
    "print('Fchi Estimate 0740: '+str(f_chilower(dist_0740toGC)*100))\n",
    "\n",
    "\n",
    "\n",
    "#J0437\n",
    "psr_0437 =coord.SkyCoord(ra =69.31583108*u.degree, dec = -47.25237343*u.degree, distance = .157*u.kpc)\n",
    "\n",
    "\n",
    "dist_0437toGC = sgrA.separation_3d(psr_0437).value\n",
    "\n",
    "print('Distance 0437 to GC:', dist_0437toGC)\n",
    "\n",
    "print('Fchi Estimate 0437: '+str(f_chilower(dist_0437toGC)*100))\n",
    "\n",
    "\n",
    "\n",
    "\n",
    "#J0030\n",
    "psr_0030 =coord.SkyCoord(ra =7.61428208*u.degree, dec = 4.86103056*u.degree, distance = 0.325*u.kpc)\n",
    "\n",
    "\n",
    "dist_0030toGC = sgrA.separation_3d(psr_0030).value\n",
    "\n",
    "print('Distance 0030 to GC:', dist_0030toGC)\n",
    "\n",
    "print('Fchi Estimate 0030: '+str(f_chilower(dist_0030toGC)*100))"
   ]
  },
  {
   "cell_type": "code",
   "execution_count": null,
   "id": "98b0fec2",
   "metadata": {},
   "outputs": [],
   "source": []
  }
 ],
 "metadata": {
  "kernelspec": {
   "display_name": "Python 3",
   "language": "python",
   "name": "python3"
  },
  "language_info": {
   "codemirror_mode": {
    "name": "ipython",
    "version": 3
   },
   "file_extension": ".py",
   "mimetype": "text/x-python",
   "name": "python",
   "nbconvert_exporter": "python",
   "pygments_lexer": "ipython3",
   "version": "3.8.8"
  }
 },
 "nbformat": 4,
 "nbformat_minor": 5
}
