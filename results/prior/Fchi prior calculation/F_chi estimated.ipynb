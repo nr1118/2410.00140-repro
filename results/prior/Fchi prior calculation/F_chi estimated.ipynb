{
 "cells": [
  {
   "cell_type": "code",
   "execution_count": 1,
   "id": "0f28178b",
   "metadata": {},
   "outputs": [],
   "source": [
    "import matplotlib as plt\n",
    "from matplotlib import pyplot\n",
    "import numpy as np\n",
    "from scipy.interpolate import UnivariateSpline"
   ]
  },
  {
   "cell_type": "code",
   "execution_count": 2,
   "id": "f1888cdb",
   "metadata": {},
   "outputs": [],
   "source": [
    "plt.rc('font',**{'family':'sans-serif','sans-serif':['Helvetica']})\n",
    "plt.rc('text', usetex=True)\n",
    "\n",
    "pyplot.rc('text', usetex=True)\n",
    "pyplot.rc('font', family='serif')\n",
    "\n",
    "pyplot.rcParams['xtick.direction'] = 'in'\n",
    "pyplot.rcParams['xtick.minor.visible'] = True\n",
    "pyplot.rcParams['ytick.direction'] = 'in'\n",
    "pyplot.rcParams['ytick.minor.visible'] = True\n",
    "pyplot.rcParams['xtick.major.size'] = 5\n",
    "pyplot.rcParams['ytick.major.size'] = 5\n",
    "pyplot.rcParams['ytick.right'] = True\n",
    "pyplot.rcParams['xtick.top'] = True"
   ]
  },
  {
   "cell_type": "code",
   "execution_count": 3,
   "id": "9cc11934",
   "metadata": {},
   "outputs": [],
   "source": [
    "from uncertainties import ufloat\n",
    "from uncertainties.umath import *  # sin(), etc. \n",
    "from astropy import units as u\n",
    "from astropy.coordinates import SkyCoord "
   ]
  },
  {
   "cell_type": "code",
   "execution_count": 4,
   "id": "767e8416",
   "metadata": {},
   "outputs": [],
   "source": [
    "vs = ufloat(430.4,5.4) #km"
   ]
  },
  {
   "cell_type": "code",
   "execution_count": 5,
   "id": "6f1e03b5",
   "metadata": {},
   "outputs": [
    {
     "data": {
      "text/plain": [
       "<Galactocentric Frame (galcen_coord=<ICRS Coordinate: (ra, dec) in deg\n",
       "    (266.4051, -28.936175)>, galcen_distance=8.122 kpc, galcen_v_sun=(12.9, 245.6, 7.78) km / s, z_sun=20.8 pc, roll=0.0 deg)>"
      ]
     },
     "execution_count": 5,
     "metadata": {},
     "output_type": "execute_result"
    }
   ],
   "source": [
    "from astropy.coordinates import Galactocentric\n",
    "from astropy.coordinates import galactocentric_frame_defaults\n",
    "import astropy.coordinates as coord\n",
    "_ = galactocentric_frame_defaults.set('latest')\n",
    "Galactocentric()\n"
   ]
  },
  {
   "cell_type": "code",
   "execution_count": 6,
   "id": "266cd2b8",
   "metadata": {},
   "outputs": [],
   "source": [
    "dchi_c = ufloat(8.1,0.7) #kpc\n",
    "rhochi_c = ufloat(5.22,.46)*1e-2 #solar mass per pc^3\n",
    "rhochi = lambda d: rhochi_c*(dchi_c/d)* (1+d/dchi_c)**(-2)\n",
    "\n",
    "\n",
    "rsc_disk = ufloat(3,0.0) #kpc\n",
    "rhoc_disk = ufloat(15,0.0) #solar mass/ pc^3\n",
    "\n",
    "rho_disk = lambda d: rhoc_disk * exp(-d/rsc_disk)\n",
    "\n",
    "\n",
    "rho_total = lambda d: rho_disk(d) + rhochi(d)"
   ]
  },
  {
   "cell_type": "code",
   "execution_count": 7,
   "id": "a2869e04",
   "metadata": {},
   "outputs": [],
   "source": [
    "#defining the mass-fraction a ratio of the dark matter density over the sum of the densities\n",
    "f_chi = lambda d: rhochi(d)/(rho_total(d))"
   ]
  },
  {
   "cell_type": "code",
   "execution_count": 8,
   "id": "0ac439e4",
   "metadata": {},
   "outputs": [
    {
     "name": "stdout",
     "output_type": "stream",
     "text": [
      "9.187827317186517\n",
      "Fchi Estimate: 1.42+/-0.28\n"
     ]
    }
   ],
   "source": [
    "#J0740\n",
    "\n",
    "#Sgr A* in the icrs frame,i.e, frame of the barycenter of the solar system, which is basically just outside of the sun\n",
    "sgrA = coord.SkyCoord(ra =266.41681663*u.degree, dec =-29.00782497*u.degree, distance = 8.3*u.kpc,frame = 'icrs')\n",
    "\n",
    "\n",
    "\n",
    "#PSR J0740+6620 see Fonseca et al. 2021 APJL 915 L12 for distance measurement\n",
    "J0740 = coord.SkyCoord(ra =115.19082917*u.degree, dec = 66.34266667*u.degree, distance = 1.14*u.kpc,frame = 'icrs')\n",
    "\n",
    "\n",
    "dist_0740toGC = sgrA.separation_3d(J0740).value\n",
    "\n",
    "\n",
    "print(dist_0740toGC)\n",
    "\n",
    "print('Fchi Estimate: '+str(f_chi(dist_0740toGC)*100))\n",
    "\n",
    "\n"
   ]
  },
  {
   "cell_type": "code",
   "execution_count": 9,
   "id": "8c74dcc1",
   "metadata": {},
   "outputs": [
    {
     "name": "stdout",
     "output_type": "stream",
     "text": [
      "8.334581881329767\n",
      "Fchi Estimate: 1.30+/-0.25\n"
     ]
    }
   ],
   "source": [
    "#J0437\n",
    "psr_0437 =coord.SkyCoord(ra =69.31583108*u.degree, dec = -47.25237343*u.degree, distance = .157*u.kpc)\n",
    "\n",
    "\n",
    "dist_0437toGC = sgrA.separation_3d(psr_0437).value\n",
    "\n",
    "print(dist_0437toGC)\n",
    "\n",
    "print('Fchi Estimate: '+str(f_chi(dist_0437toGC)*100))\n",
    "\n"
   ]
  },
  {
   "cell_type": "code",
   "execution_count": 10,
   "id": "a73c2485",
   "metadata": {},
   "outputs": [
    {
     "name": "stdout",
     "output_type": "stream",
     "text": [
      "8.374381081827721\n",
      "Fchi Estimate: 1.31+/-0.25\n"
     ]
    }
   ],
   "source": [
    "#J0030\n",
    "psr_0030 =coord.SkyCoord(ra =7.61428208*u.degree, dec = 4.86103056*u.degree, distance = 0.325*u.kpc)\n",
    "\n",
    "\n",
    "dist_0030toGC = sgrA.separation_3d(psr_0030).value\n",
    "\n",
    "print(dist_0030toGC)\n",
    "\n",
    "print('Fchi Estimate: '+str(f_chi(dist_0030toGC)*100))\n"
   ]
  },
  {
   "cell_type": "code",
   "execution_count": null,
   "id": "3e4195db",
   "metadata": {},
   "outputs": [],
   "source": []
  }
 ],
 "metadata": {
  "kernelspec": {
   "display_name": "Python 3",
   "language": "python",
   "name": "python3"
  },
  "language_info": {
   "codemirror_mode": {
    "name": "ipython",
    "version": 3
   },
   "file_extension": ".py",
   "mimetype": "text/x-python",
   "name": "python",
   "nbconvert_exporter": "python",
   "pygments_lexer": "ipython3",
   "version": "3.8.8"
  }
 },
 "nbformat": 4,
 "nbformat_minor": 5
}
